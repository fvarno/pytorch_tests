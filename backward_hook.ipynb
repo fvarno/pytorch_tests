{
 "cells": [
  {
   "cell_type": "code",
   "execution_count": 1,
   "metadata": {},
   "outputs": [],
   "source": [
    "import torch\n",
    "from torch import nn\n",
    "from torch.nn import functional as F\n",
    "import numpy"
   ]
  },
  {
   "cell_type": "code",
   "execution_count": 2,
   "metadata": {},
   "outputs": [],
   "source": [
    "class Identity(nn.Module):\n",
    "    def __init__(self):\n",
    "        super(Identity, self).__init__()\n",
    "\n",
    "    def forward(self, x):\n",
    "        return 1* x"
   ]
  },
  {
   "cell_type": "code",
   "execution_count": 3,
   "metadata": {},
   "outputs": [],
   "source": [
    "model = Identity()"
   ]
  },
  {
   "cell_type": "code",
   "execution_count": 4,
   "metadata": {},
   "outputs": [],
   "source": [
    "def backward_print(module, grad_in, grad_out):\n",
    "    print('gradient with respect to the output of layer: ')\n",
    "    print(grad_out[0].data)\n",
    "backstat_hook = lambda module, grad_in, grad_out: backward_print(module, grad_in, grad_out)\n",
    "backward_handle = model.register_backward_hook(backstat_hook)"
   ]
  },
  {
   "cell_type": "code",
   "execution_count": 5,
   "metadata": {},
   "outputs": [
    {
     "name": "stdout",
     "output_type": "stream",
     "text": [
      "target: \n",
      "tensor([1])\n",
      "estimate: \n",
      "tensor([[0., 0.]], grad_fn=<MulBackward0>)\n"
     ]
    }
   ],
   "source": [
    "#loss_fn = 'mse_loss' \n",
    "loss_fn = 'cross_entropy'\n",
    "batch = 1\n",
    "width = 2\n",
    "x = torch.zeros(batch, width, requires_grad=True)\n",
    "yhat=model(x)\n",
    "if loss_fn == 'mse_loss':\n",
    "    y = torch.tensor([[0, 1.]]*batch)\n",
    "else:\n",
    "    y = torch.tensor([1]*batch)\n",
    "\n",
    "print('target: ')\n",
    "print(y)\n",
    "print('estimate: ')\n",
    "print(yhat)"
   ]
  },
  {
   "cell_type": "code",
   "execution_count": 6,
   "metadata": {},
   "outputs": [
    {
     "name": "stdout",
     "output_type": "stream",
     "text": [
      "gradient with respect to the output of layer: \n",
      "tensor([[ 0.5000, -0.5000]])\n",
      "gradient stored in variable: \n",
      "tensor([[ 0.5000, -0.5000]])\n"
     ]
    }
   ],
   "source": [
    "loss = getattr(F, loss_fn)(yhat, y)\n",
    "loss.backward( retain_graph=True)\n",
    "print('gradient stored in variable: ')\n",
    "print(x.grad)\n",
    "backward_handle.remove()"
   ]
  },
  {
   "cell_type": "code",
   "execution_count": 7,
   "metadata": {},
   "outputs": [
    {
     "data": {
      "text/plain": [
       "tensor([1])"
      ]
     },
     "execution_count": 7,
     "metadata": {},
     "output_type": "execute_result"
    }
   ],
   "source": [
    "y"
   ]
  },
  {
   "cell_type": "code",
   "execution_count": null,
   "metadata": {},
   "outputs": [],
   "source": []
  }
 ],
 "metadata": {
  "kernelspec": {
   "display_name": "Python 3",
   "language": "python",
   "name": "python3"
  },
  "language_info": {
   "codemirror_mode": {
    "name": "ipython",
    "version": 3
   },
   "file_extension": ".py",
   "mimetype": "text/x-python",
   "name": "python",
   "nbconvert_exporter": "python",
   "pygments_lexer": "ipython3",
   "version": "3.6.8"
  }
 },
 "nbformat": 4,
 "nbformat_minor": 2
}
