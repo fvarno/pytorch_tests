{
 "cells": [
  {
   "cell_type": "code",
   "execution_count": 1,
   "metadata": {},
   "outputs": [
    {
     "name": "stdout",
     "output_type": "stream",
     "text": [
      "[ 0.008252 -0.0522    0.104954 -0.191155  0.284025 -0.175425 -0.094957\n",
      " -0.204193 -0.059974 -0.014596]\n",
      "[ 0.00825  -0.052187  0.104928 -0.191107  0.283954 -0.175382 -0.094933\n",
      " -0.204142 -0.059959 -0.014592]\n",
      "[ 0.008249 -0.052187  0.104928 -0.191106  0.283953 -0.175381 -0.094933\n",
      " -0.204141 -0.059958 -0.014592]\n",
      "[ 0.00825  -0.052187  0.104928 -0.191107  0.283954 -0.175382 -0.094933\n",
      " -0.204142 -0.059959 -0.014592]\n"
     ]
    }
   ],
   "source": [
    "import torch\n",
    "from torch import nn\n",
    "from torch.nn import functional as F\n",
    "import math\n",
    "import numpy as np\n",
    "np.set_printoptions(precision=6)\n",
    "\n",
    "input = torch.randn(20, 5, 10, 10)\n",
    "eps = 1e-5\n",
    "def batchnorm1(input, mean, var):\n",
    "    out = F.batch_norm(input, mean, var,\\\n",
    "        weight, bias, True, momentum=1, eps=eps)\n",
    "    return out, mean, var\n",
    "def batchnorm2(input, mean, var):\n",
    "    out = F.batch_norm(input, mean, var,\\\n",
    "        weight, bias, False, momentum=0, eps=eps)\n",
    "    return out, mean, var\n",
    "def batchnorm3(input):\n",
    "    # C, N, H, W\n",
    "    features = input.permute([1, 0, 2, 3])\n",
    "    reshaped = features.reshape([input.shape[1], -1])\n",
    "    mean = reshaped.mean(-1)\n",
    "    var = reshaped.var(-1)\n",
    "    # H, W, N, C\n",
    "    features = features.permute([2, 3, 1, 0])\n",
    "    normalized = (features - mean) / (var.sqrt()+eps)\n",
    "    out = torch.mul(normalized, weight) + bias\n",
    "    # N, C, H, W\n",
    "    out = out.permute(2, 3, 0, 1)\n",
    "    return out, mean, var\n",
    "def batchnorm4(input):\n",
    "    # C, N, H, W\n",
    "    features = input.permute([1, 0, 2, 3])\n",
    "    reshaped = features.reshape([input.shape[1], -1])\n",
    "    mean = reshaped.mean(-1)\n",
    "    var = reshaped.var(-1)\n",
    "    # H, W, N, C\n",
    "    features = features.permute([2, 3, 1, 0])\n",
    "    normalized = (features - mean) / (var+eps).sqrt()\n",
    "    out = torch.mul(normalized, weight) + bias\n",
    "    # N, C, H, W\n",
    "    out = out.permute(2, 3, 0, 1)\n",
    "    return out, mean, var\n",
    "\n",
    "\n",
    "bn = nn.BatchNorm2d(5, track_running_stats=False, momentum=1)\n",
    "weight=bn.weight\n",
    "bias =bn.bias\n",
    "\n",
    "mean=torch.zeros(input.shape[1])\n",
    "var=torch.zeros(input.shape[1])\n",
    "\n",
    "bch1 = batchnorm1(input, mean, var)\n",
    "bch2 = batchnorm2(input, bch1[1], bch1[2])\n",
    "bch3 = batchnorm3(input)\n",
    "bch4 = batchnorm4(input)\n",
    "\n",
    "\n",
    "print(np.array(bch1[0].data[0][0][0]))\n",
    "print(np.array(bch2[0].data[0][0][0]))\n",
    "print(np.array(bch3[0].data[0][0][0]))\n",
    "print(np.array(bch4[0].data[0][0][0]))"
   ]
  }
 ],
 "metadata": {
  "kernelspec": {
   "display_name": "Python 3",
   "language": "python",
   "name": "python3"
  },
  "language_info": {
   "codemirror_mode": {
    "name": "ipython",
    "version": 3
   },
   "file_extension": ".py",
   "mimetype": "text/x-python",
   "name": "python",
   "nbconvert_exporter": "python",
   "pygments_lexer": "ipython3",
   "version": "3.5.4"
  }
 },
 "nbformat": 4,
 "nbformat_minor": 2
}
